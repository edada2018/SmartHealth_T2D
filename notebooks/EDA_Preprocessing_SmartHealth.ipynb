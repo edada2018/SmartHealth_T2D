{
 "cells": [
  {
   "cell_type": "markdown",
   "id": "c879bd6e",
   "metadata": {},
   "source": [
    "# 🧼 Data Preprocessing and EDA – UCI Diabetes Dataset\n",
    "This notebook is part of the *Smart Health: Summer Research in Diabetes Prediction Using ML* project. It includes data cleaning, encoding, and visualization before modeling."
   ]
  },
  {
   "cell_type": "code",
   "execution_count": null,
   "id": "4cdfb6d5",
   "metadata": {},
   "outputs": [],
   "source": [
    "# 📦 Import libraries\n",
    "import pandas as pd\n",
    "import numpy as np\n",
    "import matplotlib.pyplot as plt\n",
    "import seaborn as sns\n",
    "\n",
    "# Set visualization style\n",
    "sns.set(style=\"whitegrid\")\n"
   ]
  },
  {
   "cell_type": "code",
   "execution_count": null,
   "id": "6bf4d368",
   "metadata": {},
   "outputs": [],
   "source": [
    "# 📂 Load the dataset from Google Drive\n",
    "df = pd.read_csv(\"/content/drive/MyDrive/ucidata.csv\")  # Change if needed\n",
    "df.head()\n"
   ]
  },
  {
   "cell_type": "code",
   "execution_count": null,
   "id": "b81904de",
   "metadata": {},
   "outputs": [],
   "source": [
    "# ℹ️ Data overview\n",
    "df.info()\n",
    "df.describe(include='all')\n"
   ]
  },
  {
   "cell_type": "code",
   "execution_count": null,
   "id": "93d31bd6",
   "metadata": {},
   "outputs": [],
   "source": [
    "# 🔍 Check for missing values\n",
    "df.isnull().sum()\n"
   ]
  },
  {
   "cell_type": "code",
   "execution_count": null,
   "id": "eeb9bd61",
   "metadata": {},
   "outputs": [],
   "source": [
    "# 🔄 Encode Yes/No and Male/Female to 1/0\n",
    "df_encoded = df.copy()\n",
    "df_encoded = df_encoded.replace({'Yes': 1, 'No': 0, 'Male': 1, 'Female': 0, 'Positive': 1, 'Negative': 0})\n",
    "df_encoded.head()\n"
   ]
  },
  {
   "cell_type": "code",
   "execution_count": null,
   "id": "567a7f6e",
   "metadata": {},
   "outputs": [],
   "source": [
    "# 📊 Class distribution\n",
    "sns.countplot(x='class', data=df_encoded)\n",
    "plt.title(\"Distribution of Diabetes Outcome\")\n",
    "plt.xlabel(\"Class\")\n",
    "plt.ylabel(\"Count\")\n",
    "plt.show()\n"
   ]
  },
  {
   "cell_type": "code",
   "execution_count": null,
   "id": "18d1be9f",
   "metadata": {},
   "outputs": [],
   "source": [
    "# 📊 Countplots for categorical features\n",
    "categorical_cols = df_encoded.columns[df_encoded.nunique() == 2].tolist()\n",
    "categorical_cols.remove(\"class\")\n",
    "\n",
    "plt.figure(figsize=(15, 12))\n",
    "for i, col in enumerate(categorical_cols):\n",
    "    plt.subplot(4, 4, i+1)\n",
    "    sns.countplot(x=col, data=df_encoded, palette='Set2')\n",
    "    plt.title(col)\n",
    "    plt.tight_layout()\n",
    "plt.show()\n"
   ]
  },
  {
   "cell_type": "code",
   "execution_count": null,
   "id": "6476b994",
   "metadata": {},
   "outputs": [],
   "source": [
    "# 🔗 Correlation matrix\n",
    "plt.figure(figsize=(12, 8))\n",
    "sns.heatmap(df_encoded.corr(), annot=True, cmap='coolwarm', fmt=\".2f\")\n",
    "plt.title(\"Correlation Heatmap\")\n",
    "plt.show()\n"
   ]
  }
 ],
 "metadata": {},
 "nbformat": 4,
 "nbformat_minor": 5
}
